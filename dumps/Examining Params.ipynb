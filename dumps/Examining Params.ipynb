{
 "cells": [
  {
   "cell_type": "code",
   "execution_count": 1,
   "metadata": {
    "collapsed": true
   },
   "outputs": [],
   "source": [
    "import cPickle as pkl"
   ]
  },
  {
   "cell_type": "code",
   "execution_count": 2,
   "metadata": {
    "collapsed": true
   },
   "outputs": [],
   "source": [
    "import numpy as np"
   ]
  },
  {
   "cell_type": "markdown",
   "metadata": {},
   "source": [
    "Opening the parameters dump..."
   ]
  },
  {
   "cell_type": "code",
   "execution_count": 3,
   "metadata": {
    "collapsed": true
   },
   "outputs": [],
   "source": [
    "with open('2015_07_17_123003_PARAMSDUMP.pkl','rb') as f:\n",
    "    data = pkl.load(f)"
   ]
  },
  {
   "cell_type": "code",
   "execution_count": 4,
   "metadata": {
    "collapsed": false
   },
   "outputs": [],
   "source": [
    "data= np.array([x for x in data])"
   ]
  },
  {
   "cell_type": "markdown",
   "metadata": {},
   "source": [
    "# Examining the dimensions of every layer"
   ]
  },
  {
   "cell_type": "code",
   "execution_count": 6,
   "metadata": {
    "collapsed": false,
    "scrolled": true
   },
   "outputs": [
    {
     "name": "stdout",
     "output_type": "stream",
     "text": [
      "1 (32, 3, 7, 7)\n",
      "2 (32, 256, 256)\n",
      "3 (32, 32, 3, 3)\n",
      "4 (32, 127, 127)\n",
      "5 (32, 32, 3, 3)\n",
      "6 (32, 127, 127)\n",
      "7 (64, 32, 3, 3)\n",
      "8 (64, 63, 63)\n",
      "9 (64, 64, 3, 3)\n",
      "10 (64, 63, 63)\n",
      "11 (128, 64, 3, 3)\n",
      "12 (128, 31, 31)\n",
      "13 (128, 128, 3, 3)\n",
      "14 (128, 31, 31)\n",
      "15 (128, 128, 3, 3)\n",
      "16 (128, 31, 31)\n",
      "17 (128, 128, 3, 3)\n",
      "18 (128, 31, 31)\n",
      "19 (256, 128, 3, 3)\n",
      "20 (256, 15, 15)\n",
      "21 (256, 256, 3, 3)\n",
      "22 (256, 15, 15)\n",
      "23 (256, 256, 3, 3)\n",
      "24 (256, 15, 15)\n",
      "25 (256, 256, 3, 3)\n",
      "26 (256, 15, 15)\n",
      "27 (12544, 1024)\n",
      "28 (1024,)\n",
      "29 (1028, 1024)\n",
      "30 (1024,)\n",
      "31 (512, 10)\n",
      "32 (10,)\n"
     ]
    }
   ],
   "source": [
    "for i in range(data.shape[0]):\n",
    "    print i+1, data[i].shape"
   ]
  },
  {
   "cell_type": "markdown",
   "metadata": {},
   "source": [
    "# Saving file as numpy array:\n",
    "Can be accessed without NVIDIA Cuda back-end support."
   ]
  },
  {
   "cell_type": "code",
   "execution_count": 8,
   "metadata": {
    "collapsed": false
   },
   "outputs": [],
   "source": [
    "with open('numpy_params','wb') as f:\n",
    "    pkl.dump(data,f,protocol=pkl.HIGHEST_PROTOCOL)"
   ]
  }
 ],
 "metadata": {
  "kernelspec": {
   "display_name": "Python [Root]",
   "language": "python",
   "name": "Python [Root]"
  },
  "language_info": {
   "codemirror_mode": {
    "name": "ipython",
    "version": 2
   },
   "file_extension": ".py",
   "mimetype": "text/x-python",
   "name": "python",
   "nbconvert_exporter": "python",
   "pygments_lexer": "ipython2",
   "version": "2.7.12"
  }
 },
 "nbformat": 4,
 "nbformat_minor": 0
}
