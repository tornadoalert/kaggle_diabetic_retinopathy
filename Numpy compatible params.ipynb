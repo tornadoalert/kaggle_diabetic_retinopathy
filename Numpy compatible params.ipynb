{
 "cells": [
  {
   "cell_type": "code",
   "execution_count": 1,
   "metadata": {
    "collapsed": false
   },
   "outputs": [],
   "source": [
    "import cPickle as pkl\n",
    "import numpy as np"
   ]
  },
  {
   "cell_type": "code",
   "execution_count": 2,
   "metadata": {
    "collapsed": true
   },
   "outputs": [],
   "source": [
    "with open('dumps/numpy_params','rb') as f:\n",
    "    data = pkl.load(f)"
   ]
  },
  {
   "cell_type": "code",
   "execution_count": 3,
   "metadata": {
    "collapsed": false
   },
   "outputs": [
    {
     "name": "stdout",
     "output_type": "stream",
     "text": [
      "(32, 3, 7, 7)\n",
      "(32, 256, 256)\n",
      "(32, 32, 3, 3)\n",
      "(32, 127, 127)\n",
      "(32, 32, 3, 3)\n",
      "(32, 127, 127)\n",
      "(64, 32, 3, 3)\n",
      "(64, 63, 63)\n",
      "(64, 64, 3, 3)\n",
      "(64, 63, 63)\n",
      "(128, 64, 3, 3)\n",
      "(128, 31, 31)\n",
      "(128, 128, 3, 3)\n",
      "(128, 31, 31)\n",
      "(128, 128, 3, 3)\n",
      "(128, 31, 31)\n",
      "(128, 128, 3, 3)\n",
      "(128, 31, 31)\n",
      "(256, 128, 3, 3)\n",
      "(256, 15, 15)\n",
      "(256, 256, 3, 3)\n",
      "(256, 15, 15)\n",
      "(256, 256, 3, 3)\n",
      "(256, 15, 15)\n",
      "(256, 256, 3, 3)\n",
      "(256, 15, 15)\n",
      "(12544, 1024)\n",
      "(1024,)\n",
      "(1028, 1024)\n",
      "(1024,)\n",
      "(512, 10)\n",
      "(10,)\n"
     ]
    }
   ],
   "source": [
    "for i in data:\n",
    "    print i.shape"
   ]
  },
  {
   "cell_type": "markdown",
   "metadata": {},
   "source": [
    "# yup...everythin is here"
   ]
  }
 ],
 "metadata": {
  "kernelspec": {
   "display_name": "Python [Root]",
   "language": "python",
   "name": "Python [Root]"
  },
  "language_info": {
   "codemirror_mode": {
    "name": "ipython",
    "version": 2
   },
   "file_extension": ".py",
   "mimetype": "text/x-python",
   "name": "python",
   "nbconvert_exporter": "python",
   "pygments_lexer": "ipython2",
   "version": "2.7.12"
  }
 },
 "nbformat": 4,
 "nbformat_minor": 0
}
